{
 "cells": [
  {
   "cell_type": "markdown",
   "id": "f77dd899",
   "metadata": {},
   "source": [
    "# Lab Three - Extending Logistic Regression"
   ]
  },
  {
   "cell_type": "markdown",
   "id": "a12f77d7",
   "metadata": {},
   "source": [
    "Use Sex, Age, country, and marital-status to predict education"
   ]
  },
  {
   "cell_type": "markdown",
   "id": "db598af3",
   "metadata": {},
   "source": [
    "## Preperation and Overview\n",
    "### Business Case\n",
    "WIP\n",
    "### Pre-Processing the Data"
   ]
  },
  {
   "cell_type": "code",
   "execution_count": 19,
   "id": "c4e92001",
   "metadata": {
    "scrolled": true
   },
   "outputs": [
    {
     "name": "stdout",
     "output_type": "stream",
     "text": [
      "Number of duplicate values:  0\n",
      "Missing Values Present:  0\n",
      "<class 'pandas.core.frame.DataFrame'>\n",
      "RangeIndex: 4177 entries, 0 to 4176\n",
      "Data columns (total 9 columns):\n",
      " #   Column          Non-Null Count  Dtype  \n",
      "---  ------          --------------  -----  \n",
      " 0   Sex             4177 non-null   object \n",
      " 1   Length          4177 non-null   float64\n",
      " 2   Diameter        4177 non-null   float64\n",
      " 3   Height          4177 non-null   float64\n",
      " 4   Whole-Weight    4177 non-null   float64\n",
      " 5   Shucked-Weight  4177 non-null   float64\n",
      " 6   Viscera-Weight  4177 non-null   float64\n",
      " 7   Shell-Weight    4177 non-null   float64\n",
      " 8   Rings           4177 non-null   int64  \n",
      "dtypes: float64(7), int64(1), object(1)\n",
      "memory usage: 293.8+ KB\n"
     ]
    }
   ],
   "source": [
    "import pandas as pd\n",
    "import numpy as np\n",
    "import missingno as mn\n",
    "\n",
    "initData = pd.read_csv('/home/tommy/Downloads/abalone.data')\n",
    "initData.groupby(['Rings']).size()\n",
    "duplicates = initData.duplicated().loc[initData.duplicated() == True].count()\n",
    "print(\"Number of duplicate values: \", duplicates)\n",
    "print(\"Missing Values Present: \", initData.isnull().values.sum())\n",
    "initData.info()"
   ]
  },
  {
   "cell_type": "code",
   "execution_count": 20,
   "id": "c0794712",
   "metadata": {
    "scrolled": false
   },
   "outputs": [
    {
     "name": "stdout",
     "output_type": "stream",
     "text": [
      "Rings\n",
      "1       1\n",
      "2       1\n",
      "3      15\n",
      "4      57\n",
      "5     115\n",
      "6     259\n",
      "7     391\n",
      "8     568\n",
      "9     689\n",
      "10    634\n",
      "11    487\n",
      "12    267\n",
      "13    203\n",
      "14    126\n",
      "15    103\n",
      "16     67\n",
      "17     58\n",
      "18     42\n",
      "19     32\n",
      "20     26\n",
      "21     14\n",
      "22      6\n",
      "23      9\n",
      "24      2\n",
      "25      1\n",
      "26      1\n",
      "27      2\n",
      "29      1\n",
      "dtype: int64\n"
     ]
    },
    {
     "data": {
      "text/html": [
       "<div>\n",
       "<style scoped>\n",
       "    .dataframe tbody tr th:only-of-type {\n",
       "        vertical-align: middle;\n",
       "    }\n",
       "\n",
       "    .dataframe tbody tr th {\n",
       "        vertical-align: top;\n",
       "    }\n",
       "\n",
       "    .dataframe thead th {\n",
       "        text-align: right;\n",
       "    }\n",
       "</style>\n",
       "<table border=\"1\" class=\"dataframe\">\n",
       "  <thead>\n",
       "    <tr style=\"text-align: right;\">\n",
       "      <th></th>\n",
       "      <th>Sex</th>\n",
       "      <th>Length</th>\n",
       "      <th>Diameter</th>\n",
       "      <th>Height</th>\n",
       "      <th>Whole-Weight</th>\n",
       "      <th>Shucked-Weight</th>\n",
       "      <th>Viscera-Weight</th>\n",
       "      <th>Shell-Weight</th>\n",
       "      <th>Rings</th>\n",
       "    </tr>\n",
       "  </thead>\n",
       "  <tbody>\n",
       "    <tr>\n",
       "      <th>0</th>\n",
       "      <td>M</td>\n",
       "      <td>0.455</td>\n",
       "      <td>0.365</td>\n",
       "      <td>0.095</td>\n",
       "      <td>0.5140</td>\n",
       "      <td>0.2245</td>\n",
       "      <td>0.1010</td>\n",
       "      <td>0.150</td>\n",
       "      <td>15</td>\n",
       "    </tr>\n",
       "    <tr>\n",
       "      <th>1</th>\n",
       "      <td>M</td>\n",
       "      <td>0.350</td>\n",
       "      <td>0.265</td>\n",
       "      <td>0.090</td>\n",
       "      <td>0.2255</td>\n",
       "      <td>0.0995</td>\n",
       "      <td>0.0485</td>\n",
       "      <td>0.070</td>\n",
       "      <td>7</td>\n",
       "    </tr>\n",
       "    <tr>\n",
       "      <th>2</th>\n",
       "      <td>F</td>\n",
       "      <td>0.530</td>\n",
       "      <td>0.420</td>\n",
       "      <td>0.135</td>\n",
       "      <td>0.6770</td>\n",
       "      <td>0.2565</td>\n",
       "      <td>0.1415</td>\n",
       "      <td>0.210</td>\n",
       "      <td>9</td>\n",
       "    </tr>\n",
       "    <tr>\n",
       "      <th>3</th>\n",
       "      <td>M</td>\n",
       "      <td>0.440</td>\n",
       "      <td>0.365</td>\n",
       "      <td>0.125</td>\n",
       "      <td>0.5160</td>\n",
       "      <td>0.2155</td>\n",
       "      <td>0.1140</td>\n",
       "      <td>0.155</td>\n",
       "      <td>10</td>\n",
       "    </tr>\n",
       "    <tr>\n",
       "      <th>4</th>\n",
       "      <td>I</td>\n",
       "      <td>0.330</td>\n",
       "      <td>0.255</td>\n",
       "      <td>0.080</td>\n",
       "      <td>0.2050</td>\n",
       "      <td>0.0895</td>\n",
       "      <td>0.0395</td>\n",
       "      <td>0.055</td>\n",
       "      <td>7</td>\n",
       "    </tr>\n",
       "  </tbody>\n",
       "</table>\n",
       "</div>"
      ],
      "text/plain": [
       "  Sex  Length  Diameter  Height  Whole-Weight  Shucked-Weight  Viscera-Weight  \\\n",
       "0   M   0.455     0.365   0.095        0.5140          0.2245          0.1010   \n",
       "1   M   0.350     0.265   0.090        0.2255          0.0995          0.0485   \n",
       "2   F   0.530     0.420   0.135        0.6770          0.2565          0.1415   \n",
       "3   M   0.440     0.365   0.125        0.5160          0.2155          0.1140   \n",
       "4   I   0.330     0.255   0.080        0.2050          0.0895          0.0395   \n",
       "\n",
       "   Shell-Weight  Rings  \n",
       "0         0.150     15  \n",
       "1         0.070      7  \n",
       "2         0.210      9  \n",
       "3         0.155     10  \n",
       "4         0.055      7  "
      ]
     },
     "execution_count": 20,
     "metadata": {},
     "output_type": "execute_result"
    }
   ],
   "source": [
    "print(initData.groupby(['Rings']).size())\n",
    "initData.head()"
   ]
  },
  {
   "cell_type": "markdown",
   "id": "e4204d5a",
   "metadata": {},
   "source": [
    "Before I use the data, I first one hot encode the sex class. Under normal circumstances, this would yield a single binary attribute; however, there are three unique values for sex in the dataset: male, female, and infant, so instead three attributes will be needed. I'm also discretizing the the number of rings into three ranges."
   ]
  },
  {
   "cell_type": "code",
   "execution_count": 21,
   "id": "416bca68",
   "metadata": {
    "scrolled": false
   },
   "outputs": [
    {
     "data": {
      "text/html": [
       "<div>\n",
       "<style scoped>\n",
       "    .dataframe tbody tr th:only-of-type {\n",
       "        vertical-align: middle;\n",
       "    }\n",
       "\n",
       "    .dataframe tbody tr th {\n",
       "        vertical-align: top;\n",
       "    }\n",
       "\n",
       "    .dataframe thead th {\n",
       "        text-align: right;\n",
       "    }\n",
       "</style>\n",
       "<table border=\"1\" class=\"dataframe\">\n",
       "  <thead>\n",
       "    <tr style=\"text-align: right;\">\n",
       "      <th></th>\n",
       "      <th>Length</th>\n",
       "      <th>Diameter</th>\n",
       "      <th>Height</th>\n",
       "      <th>Whole-Weight</th>\n",
       "      <th>Shucked-Weight</th>\n",
       "      <th>Viscera-Weight</th>\n",
       "      <th>Shell-Weight</th>\n",
       "      <th>Female</th>\n",
       "      <th>Infant</th>\n",
       "      <th>Male</th>\n",
       "      <th>Ring-Range</th>\n",
       "    </tr>\n",
       "  </thead>\n",
       "  <tbody>\n",
       "    <tr>\n",
       "      <th>0</th>\n",
       "      <td>0.455</td>\n",
       "      <td>0.365</td>\n",
       "      <td>0.095</td>\n",
       "      <td>0.5140</td>\n",
       "      <td>0.2245</td>\n",
       "      <td>0.1010</td>\n",
       "      <td>0.150</td>\n",
       "      <td>0</td>\n",
       "      <td>0</td>\n",
       "      <td>1</td>\n",
       "      <td>11-30</td>\n",
       "    </tr>\n",
       "    <tr>\n",
       "      <th>1</th>\n",
       "      <td>0.350</td>\n",
       "      <td>0.265</td>\n",
       "      <td>0.090</td>\n",
       "      <td>0.2255</td>\n",
       "      <td>0.0995</td>\n",
       "      <td>0.0485</td>\n",
       "      <td>0.070</td>\n",
       "      <td>0</td>\n",
       "      <td>0</td>\n",
       "      <td>1</td>\n",
       "      <td>1-8</td>\n",
       "    </tr>\n",
       "    <tr>\n",
       "      <th>2</th>\n",
       "      <td>0.530</td>\n",
       "      <td>0.420</td>\n",
       "      <td>0.135</td>\n",
       "      <td>0.6770</td>\n",
       "      <td>0.2565</td>\n",
       "      <td>0.1415</td>\n",
       "      <td>0.210</td>\n",
       "      <td>1</td>\n",
       "      <td>0</td>\n",
       "      <td>0</td>\n",
       "      <td>9-10</td>\n",
       "    </tr>\n",
       "    <tr>\n",
       "      <th>3</th>\n",
       "      <td>0.440</td>\n",
       "      <td>0.365</td>\n",
       "      <td>0.125</td>\n",
       "      <td>0.5160</td>\n",
       "      <td>0.2155</td>\n",
       "      <td>0.1140</td>\n",
       "      <td>0.155</td>\n",
       "      <td>0</td>\n",
       "      <td>0</td>\n",
       "      <td>1</td>\n",
       "      <td>9-10</td>\n",
       "    </tr>\n",
       "    <tr>\n",
       "      <th>4</th>\n",
       "      <td>0.330</td>\n",
       "      <td>0.255</td>\n",
       "      <td>0.080</td>\n",
       "      <td>0.2050</td>\n",
       "      <td>0.0895</td>\n",
       "      <td>0.0395</td>\n",
       "      <td>0.055</td>\n",
       "      <td>0</td>\n",
       "      <td>1</td>\n",
       "      <td>0</td>\n",
       "      <td>1-8</td>\n",
       "    </tr>\n",
       "  </tbody>\n",
       "</table>\n",
       "</div>"
      ],
      "text/plain": [
       "   Length  Diameter  Height  Whole-Weight  Shucked-Weight  Viscera-Weight  \\\n",
       "0   0.455     0.365   0.095        0.5140          0.2245          0.1010   \n",
       "1   0.350     0.265   0.090        0.2255          0.0995          0.0485   \n",
       "2   0.530     0.420   0.135        0.6770          0.2565          0.1415   \n",
       "3   0.440     0.365   0.125        0.5160          0.2155          0.1140   \n",
       "4   0.330     0.255   0.080        0.2050          0.0895          0.0395   \n",
       "\n",
       "   Shell-Weight  Female  Infant  Male Ring-Range  \n",
       "0         0.150       0       0     1      11-30  \n",
       "1         0.070       0       0     1        1-8  \n",
       "2         0.210       1       0     0       9-10  \n",
       "3         0.155       0       0     1       9-10  \n",
       "4         0.055       0       1     0        1-8  "
      ]
     },
     "execution_count": 21,
     "metadata": {},
     "output_type": "execute_result"
    }
   ],
   "source": [
    "# One Hot Encoding Sex\n",
    "temp = pd.get_dummies(initData['Sex'])\n",
    "initData = pd.concat([initData, temp], axis=1).drop('Sex', axis=1)\n",
    "initData.rename(columns={'F': 'Female', 'M': 'Male','I': 'Infant'}, inplace = True)\n",
    "# del initData['Sex']\n",
    "\n",
    "#Discretizing Ring Size\n",
    "initData['Ring-Range'] = pd.cut(initData['Rings'],[0,8,10,30],\n",
    "                                 labels=['1-8','9-10','11-30']) \n",
    "#initData['Ring-Range'] = initData['Ring-Range'].astype('uint8')\n",
    "del initData['Rings']\n",
    "initData.head()"
   ]
  },
  {
   "cell_type": "markdown",
   "id": "cb0c7657",
   "metadata": {},
   "source": [
    "I realize that 1-8, 9-10, and 11-30, are odd choices for ring ranges, but I wanted to ensure the number of entries per range was as similar as possible."
   ]
  },
  {
   "cell_type": "code",
   "execution_count": 22,
   "id": "fc33b3f9",
   "metadata": {
    "scrolled": false
   },
   "outputs": [
    {
     "name": "stdout",
     "output_type": "stream",
     "text": [
      "Ring-Range\n",
      "1-8      1407\n",
      "9-10     1323\n",
      "11-30    1447\n",
      "dtype: int64\n"
     ]
    }
   ],
   "source": [
    "print(initData.groupby(['Ring-Range']).size())"
   ]
  },
  {
   "cell_type": "markdown",
   "id": "b12e58fa",
   "metadata": {},
   "source": [
    "Next, I'll scale all the continuous variables, so that they rest between 0 and 1."
   ]
  },
  {
   "cell_type": "code",
   "execution_count": 23,
   "id": "3d56cdc3",
   "metadata": {},
   "outputs": [
    {
     "data": {
      "text/html": [
       "<div>\n",
       "<style scoped>\n",
       "    .dataframe tbody tr th:only-of-type {\n",
       "        vertical-align: middle;\n",
       "    }\n",
       "\n",
       "    .dataframe tbody tr th {\n",
       "        vertical-align: top;\n",
       "    }\n",
       "\n",
       "    .dataframe thead th {\n",
       "        text-align: right;\n",
       "    }\n",
       "</style>\n",
       "<table border=\"1\" class=\"dataframe\">\n",
       "  <thead>\n",
       "    <tr style=\"text-align: right;\">\n",
       "      <th></th>\n",
       "      <th>Length</th>\n",
       "      <th>Diameter</th>\n",
       "      <th>Height</th>\n",
       "      <th>Whole-Weight</th>\n",
       "      <th>Shucked-Weight</th>\n",
       "      <th>Viscera-Weight</th>\n",
       "      <th>Shell-Weight</th>\n",
       "      <th>Female</th>\n",
       "      <th>Infant</th>\n",
       "      <th>Male</th>\n",
       "      <th>Ring-Range</th>\n",
       "    </tr>\n",
       "  </thead>\n",
       "  <tbody>\n",
       "    <tr>\n",
       "      <th>0</th>\n",
       "      <td>0.513514</td>\n",
       "      <td>0.521008</td>\n",
       "      <td>0.084071</td>\n",
       "      <td>0.181335</td>\n",
       "      <td>0.150303</td>\n",
       "      <td>0.132324</td>\n",
       "      <td>0.147982</td>\n",
       "      <td>0</td>\n",
       "      <td>0</td>\n",
       "      <td>1</td>\n",
       "      <td>11-30</td>\n",
       "    </tr>\n",
       "    <tr>\n",
       "      <th>1</th>\n",
       "      <td>0.371622</td>\n",
       "      <td>0.352941</td>\n",
       "      <td>0.079646</td>\n",
       "      <td>0.079157</td>\n",
       "      <td>0.066241</td>\n",
       "      <td>0.063199</td>\n",
       "      <td>0.068261</td>\n",
       "      <td>0</td>\n",
       "      <td>0</td>\n",
       "      <td>1</td>\n",
       "      <td>1-8</td>\n",
       "    </tr>\n",
       "    <tr>\n",
       "      <th>2</th>\n",
       "      <td>0.614865</td>\n",
       "      <td>0.613445</td>\n",
       "      <td>0.119469</td>\n",
       "      <td>0.239065</td>\n",
       "      <td>0.171822</td>\n",
       "      <td>0.185648</td>\n",
       "      <td>0.207773</td>\n",
       "      <td>1</td>\n",
       "      <td>0</td>\n",
       "      <td>0</td>\n",
       "      <td>9-10</td>\n",
       "    </tr>\n",
       "    <tr>\n",
       "      <th>3</th>\n",
       "      <td>0.493243</td>\n",
       "      <td>0.521008</td>\n",
       "      <td>0.110619</td>\n",
       "      <td>0.182044</td>\n",
       "      <td>0.144250</td>\n",
       "      <td>0.149440</td>\n",
       "      <td>0.152965</td>\n",
       "      <td>0</td>\n",
       "      <td>0</td>\n",
       "      <td>1</td>\n",
       "      <td>9-10</td>\n",
       "    </tr>\n",
       "    <tr>\n",
       "      <th>4</th>\n",
       "      <td>0.344595</td>\n",
       "      <td>0.336134</td>\n",
       "      <td>0.070796</td>\n",
       "      <td>0.071897</td>\n",
       "      <td>0.059516</td>\n",
       "      <td>0.051350</td>\n",
       "      <td>0.053313</td>\n",
       "      <td>0</td>\n",
       "      <td>1</td>\n",
       "      <td>0</td>\n",
       "      <td>1-8</td>\n",
       "    </tr>\n",
       "  </tbody>\n",
       "</table>\n",
       "</div>"
      ],
      "text/plain": [
       "     Length  Diameter    Height  Whole-Weight  Shucked-Weight  Viscera-Weight  \\\n",
       "0  0.513514  0.521008  0.084071      0.181335        0.150303        0.132324   \n",
       "1  0.371622  0.352941  0.079646      0.079157        0.066241        0.063199   \n",
       "2  0.614865  0.613445  0.119469      0.239065        0.171822        0.185648   \n",
       "3  0.493243  0.521008  0.110619      0.182044        0.144250        0.149440   \n",
       "4  0.344595  0.336134  0.070796      0.071897        0.059516        0.051350   \n",
       "\n",
       "   Shell-Weight  Female  Infant  Male Ring-Range  \n",
       "0      0.147982       0       0     1      11-30  \n",
       "1      0.068261       0       0     1        1-8  \n",
       "2      0.207773       1       0     0       9-10  \n",
       "3      0.152965       0       0     1       9-10  \n",
       "4      0.053313       0       1     0        1-8  "
      ]
     },
     "execution_count": 23,
     "metadata": {},
     "output_type": "execute_result"
    }
   ],
   "source": [
    "continuous_vars = ['Length', 'Diameter', 'Height', 'Whole-Weight', 'Shucked-Weight', 'Viscera-Weight', 'Shell-Weight']\n",
    "for v in continuous_vars:\n",
    "    # Taken from: https://www.geeksforgeeks.org/normalize-a-column-in-pandas/\n",
    "    initData[v] = (initData[v]-initData[v].min())/(initData[v].max()-initData[v].min())\n",
    "\n",
    "initData.head()"
   ]
  },
  {
   "cell_type": "code",
   "execution_count": 24,
   "id": "7ff60ac4",
   "metadata": {
    "scrolled": false
   },
   "outputs": [
    {
     "data": {
      "text/html": [
       "<div>\n",
       "<style scoped>\n",
       "    .dataframe tbody tr th:only-of-type {\n",
       "        vertical-align: middle;\n",
       "    }\n",
       "\n",
       "    .dataframe tbody tr th {\n",
       "        vertical-align: top;\n",
       "    }\n",
       "\n",
       "    .dataframe thead th {\n",
       "        text-align: right;\n",
       "    }\n",
       "</style>\n",
       "<table border=\"1\" class=\"dataframe\">\n",
       "  <thead>\n",
       "    <tr style=\"text-align: right;\">\n",
       "      <th></th>\n",
       "      <th>Length</th>\n",
       "      <th>Diameter</th>\n",
       "      <th>Height</th>\n",
       "      <th>Whole-Weight</th>\n",
       "      <th>Shucked-Weight</th>\n",
       "      <th>Viscera-Weight</th>\n",
       "      <th>Shell-Weight</th>\n",
       "      <th>Female</th>\n",
       "      <th>Infant</th>\n",
       "      <th>Male</th>\n",
       "    </tr>\n",
       "  </thead>\n",
       "  <tbody>\n",
       "    <tr>\n",
       "      <th>count</th>\n",
       "      <td>4177.000000</td>\n",
       "      <td>4177.000000</td>\n",
       "      <td>4177.000000</td>\n",
       "      <td>4177.000000</td>\n",
       "      <td>4177.000000</td>\n",
       "      <td>4177.000000</td>\n",
       "      <td>4177.000000</td>\n",
       "      <td>4177.000000</td>\n",
       "      <td>4177.000000</td>\n",
       "      <td>4177.000000</td>\n",
       "    </tr>\n",
       "    <tr>\n",
       "      <th>mean</th>\n",
       "      <td>0.606746</td>\n",
       "      <td>0.593078</td>\n",
       "      <td>0.123466</td>\n",
       "      <td>0.292808</td>\n",
       "      <td>0.241000</td>\n",
       "      <td>0.237121</td>\n",
       "      <td>0.236503</td>\n",
       "      <td>0.312904</td>\n",
       "      <td>0.321283</td>\n",
       "      <td>0.365813</td>\n",
       "    </tr>\n",
       "    <tr>\n",
       "      <th>std</th>\n",
       "      <td>0.162288</td>\n",
       "      <td>0.166790</td>\n",
       "      <td>0.037015</td>\n",
       "      <td>0.173681</td>\n",
       "      <td>0.149269</td>\n",
       "      <td>0.144324</td>\n",
       "      <td>0.138717</td>\n",
       "      <td>0.463731</td>\n",
       "      <td>0.467025</td>\n",
       "      <td>0.481715</td>\n",
       "    </tr>\n",
       "    <tr>\n",
       "      <th>min</th>\n",
       "      <td>0.000000</td>\n",
       "      <td>0.000000</td>\n",
       "      <td>0.000000</td>\n",
       "      <td>0.000000</td>\n",
       "      <td>0.000000</td>\n",
       "      <td>0.000000</td>\n",
       "      <td>0.000000</td>\n",
       "      <td>0.000000</td>\n",
       "      <td>0.000000</td>\n",
       "      <td>0.000000</td>\n",
       "    </tr>\n",
       "    <tr>\n",
       "      <th>25%</th>\n",
       "      <td>0.506757</td>\n",
       "      <td>0.495798</td>\n",
       "      <td>0.101770</td>\n",
       "      <td>0.155658</td>\n",
       "      <td>0.124412</td>\n",
       "      <td>0.122449</td>\n",
       "      <td>0.128052</td>\n",
       "      <td>0.000000</td>\n",
       "      <td>0.000000</td>\n",
       "      <td>0.000000</td>\n",
       "    </tr>\n",
       "    <tr>\n",
       "      <th>50%</th>\n",
       "      <td>0.635135</td>\n",
       "      <td>0.621849</td>\n",
       "      <td>0.123894</td>\n",
       "      <td>0.282451</td>\n",
       "      <td>0.225286</td>\n",
       "      <td>0.224490</td>\n",
       "      <td>0.231689</td>\n",
       "      <td>0.000000</td>\n",
       "      <td>0.000000</td>\n",
       "      <td>0.000000</td>\n",
       "    </tr>\n",
       "    <tr>\n",
       "      <th>75%</th>\n",
       "      <td>0.729730</td>\n",
       "      <td>0.714286</td>\n",
       "      <td>0.146018</td>\n",
       "      <td>0.407650</td>\n",
       "      <td>0.336920</td>\n",
       "      <td>0.332456</td>\n",
       "      <td>0.326358</td>\n",
       "      <td>1.000000</td>\n",
       "      <td>1.000000</td>\n",
       "      <td>1.000000</td>\n",
       "    </tr>\n",
       "    <tr>\n",
       "      <th>max</th>\n",
       "      <td>1.000000</td>\n",
       "      <td>1.000000</td>\n",
       "      <td>1.000000</td>\n",
       "      <td>1.000000</td>\n",
       "      <td>1.000000</td>\n",
       "      <td>1.000000</td>\n",
       "      <td>1.000000</td>\n",
       "      <td>1.000000</td>\n",
       "      <td>1.000000</td>\n",
       "      <td>1.000000</td>\n",
       "    </tr>\n",
       "  </tbody>\n",
       "</table>\n",
       "</div>"
      ],
      "text/plain": [
       "            Length     Diameter       Height  Whole-Weight  Shucked-Weight  \\\n",
       "count  4177.000000  4177.000000  4177.000000   4177.000000     4177.000000   \n",
       "mean      0.606746     0.593078     0.123466      0.292808        0.241000   \n",
       "std       0.162288     0.166790     0.037015      0.173681        0.149269   \n",
       "min       0.000000     0.000000     0.000000      0.000000        0.000000   \n",
       "25%       0.506757     0.495798     0.101770      0.155658        0.124412   \n",
       "50%       0.635135     0.621849     0.123894      0.282451        0.225286   \n",
       "75%       0.729730     0.714286     0.146018      0.407650        0.336920   \n",
       "max       1.000000     1.000000     1.000000      1.000000        1.000000   \n",
       "\n",
       "       Viscera-Weight  Shell-Weight       Female       Infant         Male  \n",
       "count     4177.000000   4177.000000  4177.000000  4177.000000  4177.000000  \n",
       "mean         0.237121      0.236503     0.312904     0.321283     0.365813  \n",
       "std          0.144324      0.138717     0.463731     0.467025     0.481715  \n",
       "min          0.000000      0.000000     0.000000     0.000000     0.000000  \n",
       "25%          0.122449      0.128052     0.000000     0.000000     0.000000  \n",
       "50%          0.224490      0.231689     0.000000     0.000000     0.000000  \n",
       "75%          0.332456      0.326358     1.000000     1.000000     1.000000  \n",
       "max          1.000000      1.000000     1.000000     1.000000     1.000000  "
      ]
     },
     "execution_count": 24,
     "metadata": {},
     "output_type": "execute_result"
    }
   ],
   "source": [
    "initData.describe()"
   ]
  },
  {
   "cell_type": "code",
   "execution_count": 25,
   "id": "8a120482",
   "metadata": {},
   "outputs": [
    {
     "name": "stdout",
     "output_type": "stream",
     "text": [
      "<class 'pandas.core.frame.DataFrame'>\n",
      "RangeIndex: 4177 entries, 0 to 4176\n",
      "Data columns (total 11 columns):\n",
      " #   Column          Non-Null Count  Dtype   \n",
      "---  ------          --------------  -----   \n",
      " 0   Length          4177 non-null   float64 \n",
      " 1   Diameter        4177 non-null   float64 \n",
      " 2   Height          4177 non-null   float64 \n",
      " 3   Whole-Weight    4177 non-null   float64 \n",
      " 4   Shucked-Weight  4177 non-null   float64 \n",
      " 5   Viscera-Weight  4177 non-null   float64 \n",
      " 6   Shell-Weight    4177 non-null   float64 \n",
      " 7   Female          4177 non-null   uint8   \n",
      " 8   Infant          4177 non-null   uint8   \n",
      " 9   Male            4177 non-null   uint8   \n",
      " 10  Ring-Range      4177 non-null   category\n",
      "dtypes: category(1), float64(7), uint8(3)\n",
      "memory usage: 245.0 KB\n"
     ]
    }
   ],
   "source": [
    "initData.info()"
   ]
  },
  {
   "cell_type": "markdown",
   "id": "d3185442",
   "metadata": {},
   "source": [
    "WIP, describe the data"
   ]
  },
  {
   "cell_type": "markdown",
   "id": "ba7cd3c0",
   "metadata": {},
   "source": [
    "### Splitting the Data"
   ]
  },
  {
   "cell_type": "code",
   "execution_count": 26,
   "id": "8eb7f9fb",
   "metadata": {
    "scrolled": false
   },
   "outputs": [],
   "source": [
    "from sklearn import model_selection as ms\n",
    "\n",
    "y = initData['Ring-Range'].values\n",
    "X = initData.drop('Ring-Range', axis=1).to_numpy()\n",
    "\n",
    "\n",
    "X_train, X_test, y_train, y_test = ms.train_test_split(X, y, test_size=0.2)\n",
    "\n",
    "# temp2 = y_train.to_numpy()\n",
    "# count1 = (temp2 == '1-8').sum()\n",
    "# count2 = (temp2 == '9-10').sum()\n",
    "# count3 = (temp2 == '11-30').sum()\n",
    "# print(count1, '|', count2, '|', count3)\n",
    "# temp2 = y_test.to_numpy()\n",
    "# count1 = (temp2 == '1-8').sum()\n",
    "# count2 = (temp2 == '9-10').sum()\n",
    "# count3 = (temp2 == '11-30').sum()\n",
    "# print(count1, '|', count2, '|', count3)"
   ]
  },
  {
   "cell_type": "markdown",
   "id": "8116dff1",
   "metadata": {},
   "source": [
    "### Why an 80/20 split works best for my dataset"
   ]
  },
  {
   "cell_type": "markdown",
   "id": "3278e23b",
   "metadata": {},
   "source": [
    "WIP, explain this."
   ]
  },
  {
   "cell_type": "markdown",
   "id": "20734309",
   "metadata": {},
   "source": [
    "## Modeling"
   ]
  },
  {
   "cell_type": "markdown",
   "id": "1f43b809",
   "metadata": {},
   "source": [
    "The below code is imported from the class notebook. The LogisticRegression class has been modified to accept a user-provided regression method. BinaryLogisticRegression has a regularized gradient method, and all relevant classes have been modified to use this regularized gradient method."
   ]
  },
  {
   "cell_type": "code",
   "execution_count": 27,
   "id": "58e47cc7",
   "metadata": {},
   "outputs": [],
   "source": [
    "import numpy as np\n",
    "from scipy.special import expit\n",
    "class BinaryLogisticRegressionBase:\n",
    "    # private:\n",
    "    def __init__(self, eta, iterations=20):\n",
    "        self.eta = eta\n",
    "        self.iters = iterations\n",
    "        # internally we will store the weights as self.w_ to keep with sklearn conventions\n",
    "    \n",
    "    def __str__(self):\n",
    "        return 'Base Binary Logistic Regression Object, Not Trainable'\n",
    "    \n",
    "    # convenience, private and static:\n",
    "    @staticmethod\n",
    "    def _sigmoid(theta):\n",
    "        return 1/(1+np.exp(-theta)) \n",
    "    \n",
    "    @staticmethod\n",
    "    def _add_bias(X):\n",
    "        return np.hstack((np.ones((X.shape[0],1)),X)) # add bias term\n",
    "    \n",
    "    # public:\n",
    "    def predict_proba(self, X, add_bias=True):\n",
    "        # add bias term if requested\n",
    "        Xb = self._add_bias(X) if add_bias else X\n",
    "        return self._sigmoid(Xb @ self.w_) # return the probability y=1\n",
    "    \n",
    "    def predict(self,X):\n",
    "        return (self.predict_proba(X)>0.5) #return the actual prediction\n",
    "    \n",
    "\n",
    "class BinaryLogisticRegression:\n",
    "    def __init__(self, eta, iterations=20, C=0.001, reg=None):\n",
    "        self.eta = eta\n",
    "        self.iters = iterations\n",
    "        self.C = C\n",
    "        self.r = reg\n",
    "        # internally we will store the weights as self.w_ to keep with sklearn conventions\n",
    "        \n",
    "    def __str__(self):\n",
    "        if(hasattr(self,'w_')):\n",
    "            return 'Binary Logistic Regression Object with coefficients:\\n'+ str(self.w_) # is we have trained the object\n",
    "        else:\n",
    "            return 'Untrained Binary Logistic Regression Object'\n",
    "        \n",
    "    # convenience, private:\n",
    "    @staticmethod\n",
    "    def _add_bias(X):\n",
    "        return np.hstack((np.ones((X.shape[0],1)),X)) # add bias term\n",
    "    \n",
    "    @staticmethod\n",
    "    def _sigmoid(theta):\n",
    "        # increase stability, redefine sigmoid operation\n",
    "        return expit(theta) #1/(1+np.exp(-theta))\n",
    "    \n",
    "    # vectorized gradient calculation with regularization using L2 Norm\n",
    "    def _get_gradient(self,X,y):\n",
    "        ydiff = y-self.predict_proba(X,add_bias=False).ravel() # get y difference\n",
    "        gradient = np.mean(X * ydiff[:,np.newaxis], axis=0) # make ydiff a column vector and multiply through\n",
    "        \n",
    "        gradient = gradient.reshape(self.w_.shape)\n",
    "\n",
    "        # gradient[1:] += -2 * self.w_[1:] * self.C\n",
    "        \n",
    "        return gradient\n",
    "    \n",
    "    def _reg_grad(self):\n",
    "        if (self.r == 'L1'): \n",
    "            return -1 * np.linalg.norm(self.w_[1:])\n",
    "        \n",
    "        elif (self.r == 'L2'): \n",
    "            return -1 * np.square(self.w_[1:])\n",
    "        \n",
    "        elif (self.r == 'L1L2'): \n",
    "            return -1 * (np.square(self.w_[1:]) + np.linalg.norm(self.w_[1:]))\n",
    "    \n",
    "    # public:\n",
    "    def predict_proba(self,X,add_bias=True):\n",
    "        # add bias term if requested\n",
    "        Xb = self._add_bias(X) if add_bias else X\n",
    "        return self._sigmoid(Xb @ self.w_) # return the probability y=1\n",
    "    \n",
    "    def predict(self,X):\n",
    "        return (self.predict_proba(X)>0.5) #return the actual prediction\n",
    "    \n",
    "    \n",
    "    def fit(self, X, y):\n",
    "        Xb = self._add_bias(X) # add bias term\n",
    "        num_samples, num_features = Xb.shape\n",
    "        \n",
    "        self.w_ = np.zeros((num_features,1)) # init weight vector to zeros\n",
    "        \n",
    "        # for as many as the max iterations\n",
    "        for _ in range(self.iters):\n",
    "            gradient = self._get_gradient(Xb,y)\n",
    "            self.w_ += gradient*self.eta # multiply by learning rate \n",
    "            # add bacause maximizing \n",
    "        \n",
    "\n",
    "from scipy.special import expit\n",
    "\n",
    "class VectorBinaryLogisticRegression(BinaryLogisticRegression):\n",
    "    # inherit from our previous class to get same functionality\n",
    "    @staticmethod\n",
    "    def _sigmoid(theta):\n",
    "        # increase stability, redefine sigmoid operation\n",
    "        return expit(theta) #1/(1+np.exp(-theta))\n",
    "    \n",
    "    # but overwrite the gradient calculation\n",
    "    def _get_gradient(self,X,y):\n",
    "        ydiff = y-self.predict_proba(X,add_bias=False).ravel() # get y difference\n",
    "        gradient = np.mean(X * ydiff[:,np.newaxis], axis=0) # make ydiff a column vector and multiply through\n",
    "        gradient = gradient.reshape(self.w_.shape)\n",
    "        if self._reg_grad() is not None:\n",
    "            gradient[1:] += self._reg_grad() * self.C\n",
    "        \n",
    "        return gradient.reshape(self.w_.shape)\n",
    "\n",
    "# from scipy.optimize import minimize_scalar\n",
    "# import copy\n",
    "# from numpy import ma # (masked array) this has most numpy functions that work with NaN data.\n",
    "# class LineSearchLogisticRegression(BinaryLogisticRegression):\n",
    "    \n",
    "#     # define custom line search for problem\n",
    "#     def __init__(self, line_iters=0.0, **kwds):        \n",
    "#         self.line_iters = line_iters\n",
    "#         # but keep other keywords\n",
    "#         super().__init__(**kwds) # call parent initializer\n",
    "    \n",
    "#     @staticmethod\n",
    "#     def objective_function(eta,X,y,w,grad,C):\n",
    "#         wnew = w - grad*eta\n",
    "#         g = expit(X @ wnew)\n",
    "#         return -np.sum(ma.log(g[y==1]))-ma.sum(np.log(1-g[y==0])) + C*sum(wnew**2)\n",
    "    \n",
    "        \n",
    "#     def fit(self, X, y):\n",
    "#         Xb = self._add_bias(X) # add bias term\n",
    "#         num_samples, num_features = Xb.shape\n",
    "        \n",
    "#         self.w_ = np.zeros((num_features,1)) # init weight vector to zeros\n",
    "        \n",
    "#         # for as many as the max iterations\n",
    "#         for _ in range(self.iters):\n",
    "#             gradient = -self._get_gradient(Xb,y)\n",
    "#             # minimization inopposite direction\n",
    "            \n",
    "#             # do line search in gradient direction, using scipy function\n",
    "#             opts = {'maxiter':self.line_iters} # unclear exactly what this should be\n",
    "#             res = minimize_scalar(self.objective_function, # objective function to optimize\n",
    "#                                   bounds=(0,self.eta*10), #bounds to optimize\n",
    "#                                   args=(Xb,y,self.w_,gradient,self.C), # additional argument for objective function\n",
    "#                                   method='bounded', # bounded optimization for speed\n",
    "#                                   options=opts) # set max iterations\n",
    "            \n",
    "#             eta = res.x # get optimal learning rate\n",
    "#             self.w_ -= gradient*eta # set new function values\n",
    "#             # subtract to minimize\n",
    "                \n",
    "            \n",
    "class StochasticLogisticRegression(BinaryLogisticRegression):\n",
    "    # stochastic gradient calculation \n",
    "    def _get_gradient(self,X,y):\n",
    "        idx = int(np.random.rand()*len(y)) # grab random instance\n",
    "        ydiff = y[idx]-self.predict_proba(X[idx],add_bias=False) # get y difference (now scalar)\n",
    "        gradient = X[idx] * ydiff[:,np.newaxis] # make ydiff a column vector and multiply through\n",
    "        \n",
    "        gradient = gradient.reshape(self.w_.shape)\n",
    "        if self._reg_grad() is not None:\n",
    "            gradient[1:] += self._reg_grad() * self.C\n",
    "        \n",
    "        #gradient[1:] += -2 * self.w_[1:] * self.C\n",
    "        \n",
    "        return gradient\n",
    "\n",
    "from numpy.linalg import pinv\n",
    "class HessianBinaryLogisticRegression(BinaryLogisticRegression):\n",
    "    # just overwrite gradient function\n",
    "    def _get_gradient(self,X,y):\n",
    "        g = self.predict_proba(X,add_bias=False).ravel() # get sigmoid value for all classes\n",
    "        hessian = X.T @ np.diag(g*(1-g)) @ X - 2 * self.C # calculate the hessian\n",
    "\n",
    "        ydiff = y-g # get y difference\n",
    "        gradient = np.sum(X * ydiff[:,np.newaxis], axis=0) # make ydiff a column vector and multiply through\n",
    "        gradient = gradient.reshape(self.w_.shape)\n",
    "        \n",
    "        if self._reg_grad() is not None:\n",
    "            gradient[1:] += self._reg_grad() * self.C\n",
    "        # gradient[1:] += -2 * self.w_[1:] * self.C\n",
    "        \n",
    "        return pinv(hessian) @ gradient\n",
    "\n",
    "# class BFGSBinaryLogisticRegression(BinaryLogisticRegression):\n",
    "    \n",
    "#     @staticmethod\n",
    "#     def objective_function(w,X,y,C):\n",
    "#         g = expit(X @ w)\n",
    "#         # invert this because scipy minimizes, but we derived all formulas for maximzing\n",
    "#         return -np.sum(ma.log(g[y==1]))-np.sum(ma.log(1-g[y==0])) + C*sum(w**2) \n",
    "#         #-np.sum(y*np.log(g)+(1-y)*np.log(1-g))\n",
    "\n",
    "#     @staticmethod\n",
    "#     def objective_gradient(w,X,y,C):\n",
    "#         g = expit(X @ w)\n",
    "#         ydiff = y-g # get y difference\n",
    "#         gradient = np.mean(X * ydiff[:,np.newaxis], axis=0)\n",
    "#         gradient = gradient.reshape(w.shape)\n",
    "#         gradient[1:] += -2 * w[1:] * C\n",
    "#         return -gradient\n",
    "    \n",
    "#     # just overwrite fit function\n",
    "#     def fit(self, X, y):\n",
    "#         Xb = self._add_bias(X) # add bias term\n",
    "#         num_samples, num_features = Xb.shape\n",
    "        \n",
    "#         self.w_ = fmin_bfgs(self.objective_function, # what to optimize\n",
    "#                             np.zeros((num_features,1)), # starting point\n",
    "#                             fprime=self.objective_gradient, # gradient function\n",
    "#                             args=(Xb,y,self.C), # extra args for gradient and objective function\n",
    "#                             gtol=1e-03, # stopping criteria for gradient, |v_k|\n",
    "#                             maxiter=self.iters, # stopping criteria iterations\n",
    "#                             disp=False)\n",
    "#         self.w_ = self.w_.reshape((num_features,1))\n",
    "\n",
    "# Modified to include allow users to specify regression class, instead of only using VectorBinaryLogisticRegression.\n",
    "class LogisticRegression:\n",
    "    def __init__(self, eta, iterations=20, C=0.01, solvMethod = BinaryLogisticRegression, reg='None'):\n",
    "        self.eta = eta\n",
    "        self.iters = iterations\n",
    "        self.C = C\n",
    "        self.solvMethod = solvMethod\n",
    "        self.r = reg\n",
    "        # internally we will store the weights as self.w_ to keep with sklearn conventions\n",
    "    \n",
    "    def __str__(self):\n",
    "        if(hasattr(self,'w_')):\n",
    "            return 'MultiClass Logistic Regression Object with coefficients:\\n'+ str(self.w_) # is we have trained the object\n",
    "        else:\n",
    "            return 'Untrained MultiClass Logistic Regression Object'\n",
    "        \n",
    "    def fit(self,X,y):\n",
    "        num_samples, num_features = X.shape\n",
    "        self.unique_ = np.unique(y) # get each unique class value\n",
    "        num_unique_classes = len(self.unique_)\n",
    "        self.classifiers_ = [] # will fill this array with binary classifiers\n",
    "        \n",
    "        for i,yval in enumerate(self.unique_): # for each unique value\n",
    "            y_binary = (y==yval) # create a binary problem\n",
    "            # train the binary classifier for this class\n",
    "            blr = self.solvMethod(eta=self.eta, iterations=self.iters, C=self.C, reg=self.r)\n",
    "            blr.fit(X,y_binary)\n",
    "            # add the trained classifier to the list\n",
    "            self.classifiers_.append(blr)\n",
    "            \n",
    "        # save all the weights into one matrix, separate column for each class\n",
    "        self.w_ = np.hstack([x.w_ for x in self.classifiers_]).T\n",
    "    \n",
    "    def predict_proba(self,X):\n",
    "        probs = []\n",
    "        for blr in self.classifiers_:\n",
    "            probs.append(blr.predict_proba(X)) # get probability for each classifier\n",
    "        \n",
    "        return np.hstack(probs) # make into single matrix\n",
    "    \n",
    "    def predict(self,X):\n",
    "        # print(self.predict_proba(X))\n",
    "        return self.unique_[np.argmax(self.predict_proba(X),axis=1)] # take argmax along row\n",
    "    \n",
    "    def _add_bias(self,X):\n",
    "        return np.hstack((np.ones((X.shape[0],1)),X)) # add bias term'\n",
    "    def _get_gradient(self,X,y):\n",
    "        ydiff = y-self.predict_proba(X).ravel() # get y difference\n",
    "        gradient = np.mean(X * ydiff[:,np.newaxis], axis=0) # make ydiff a column vector and multiply through\n",
    "        \n",
    "        gradient = gradient.reshape(self.w_.shape)\n",
    "        gradient[1:] += -2 * self.w_[1:] * self.C\n",
    "        \n",
    "        return gradient"
   ]
  },
  {
   "cell_type": "code",
   "execution_count": 28,
   "id": "e7612049",
   "metadata": {},
   "outputs": [],
   "source": [
    "#  either steepest ascent, stochastic gradient ascent, and {Newton's method/Quasi Newton methods}\n",
    "solverAlias = {'steepest':VectorBinaryLogisticRegression,\n",
    "               'stochastic':StochasticLogisticRegression,\n",
    "               'newton':HessianBinaryLogisticRegression}\n",
    "\n",
    "class CustomLogisiticRegressionWrapper:\n",
    "    def __init__(self, eta, iterations=100, solver='WIP', reg='Neither', cost = 0.01):\n",
    "        self.eta = eta\n",
    "        self.iter = iterations\n",
    "        self.C = cost\n",
    "        self.reg = reg\n",
    "        self.solv = LogisticRegression(eta=self.eta, iterations=self.iter, solvMethod=solverAlias[solver], C=self.C, reg=self.reg)\n",
    "    \n",
    "    def fit(self, X, y):\n",
    "        return self.solv.fit(X,y)\n",
    "    \n",
    "    def predict(self, X):\n",
    "        return self.solv.predict(X)\n"
   ]
  },
  {
   "cell_type": "markdown",
   "id": "c0859d35",
   "metadata": {},
   "source": [
    "### Comparing Performance Across All Solvers, Regularizations, and C values"
   ]
  },
  {
   "cell_type": "code",
   "execution_count": 29,
   "id": "62db2427",
   "metadata": {},
   "outputs": [
    {
     "name": "stdout",
     "output_type": "stream",
     "text": [
      "Solver:  steepest\n",
      "Solver:  stochastic\n",
      "Solver:  newton\n"
     ]
    }
   ],
   "source": [
    "from sklearn.metrics import accuracy_score\n",
    "\n",
    "solvers = ['steepest', 'stochastic', 'newton']\n",
    "regs = ['L1', 'L2', 'L1L2', None]\n",
    "Cs = np.arange(0,2.05,0.05)\n",
    "theEta = 0.1\n",
    "theIters = 10\n",
    "\n",
    "results = []\n",
    "for i in solvers:\n",
    "    results.append(np.zeros((len(Cs),len(regs))))\n",
    "\n",
    "for i in range(len(solvers)):\n",
    "    print(\"Solver: \", solvers[i])\n",
    "    for j in range(len(regs)):\n",
    "        for k in range(len(Cs)):\n",
    "            lr = CustomLogisiticRegressionWrapper(eta=theEta,iterations=theIters,solver=solvers[i], cost=Cs[k], reg=regs[j])\n",
    "            lr.fit(X_train,y_train)\n",
    "            yhat = lr.predict(X_test)\n",
    "            results[i][k,j] = accuracy_score(y_test,yhat)"
   ]
  },
  {
   "cell_type": "code",
   "execution_count": 30,
   "id": "82e87a32",
   "metadata": {
    "scrolled": false
   },
   "outputs": [
    {
     "data": {
      "text/plain": [
       "(0.25, 0.65)"
      ]
     },
     "execution_count": 30,
     "metadata": {},
     "output_type": "execute_result"
    },
    {
     "data": {
      "image/png": "[encoded data removed]",
      "text/plain": [
       "<Figure size 1080x360 with 3 Axes>"
      ]
     },
     "metadata": {
      "needs_background": "light"
     },
     "output_type": "display_data"
    },
    {
     "data": {
      "image/png": "[encoded data removed]",
      "text/plain": [
       "<Figure size 1080x360 with 1 Axes>"
      ]
     },
     "metadata": {
      "needs_background": "light"
     },
     "output_type": "display_data"
    }
   ],
   "source": [
    "import matplotlib.pyplot as plt\n",
    "\n",
    "\n",
    "\n",
    "plt.subplots(figsize=(15, 5))\n",
    "plt.subplot(1,3,1)\n",
    "steepL1 = plt.plot( Cs, results[0][:,0], label=\"L1\")\n",
    "steepL2 = plt.plot(Cs, results[0][:,1], label ='L2')\n",
    "steepL1L2 = plt.plot(Cs, results[0][:,2], label='L1L2')\n",
    "plt.legend()\n",
    "plt.title(\"Steepest Descent\")\n",
    "plt.xlabel(\"C-Values\")\n",
    "plt.ylabel(\"Accuracy Scores\")\n",
    "plt.ylim(0.25, 0.65)\n",
    "plt.subplot(1,3,2)\n",
    "stochL1 = plt.plot( Cs, results[1][:,0], label=\"L1\")\n",
    "stochL2 = plt.plot(Cs, results[1][:,1], label ='L2')\n",
    "stochL1L2 = plt.plot(Cs, results[1][:,2], label='L1L2')\n",
    "plt.legend()\n",
    "plt.title(\"Stochastic Regression\")\n",
    "plt.xlabel(\"C-Values\")\n",
    "plt.ylabel(\"Accuracy Scores\")\n",
    "plt.ylim(0.25, 0.65)\n",
    "plt.subplot(1,3,3)\n",
    "newtonL1 = plt.plot( Cs, results[2][:,0], label=\"L1\")\n",
    "newtonL2 = plt.plot(Cs, results[2][:,1], label ='L2')\n",
    "newtonL1L2 = plt.plot(Cs, results[2][:,2], label='L1L2')\n",
    "plt.legend()\n",
    "plt.title(\"Newton's Method (Hessian)\")\n",
    "plt.xlabel(\"C-Values\")\n",
    "plt.ylabel(\"Accuracy Scores\")\n",
    "plt.ylim(0.25, 0.65)\n",
    "\n",
    "plt.figure(figsize=(15,5))\n",
    "steepBest1 = plt.plot( Cs, results[0][:,2], label=\"Steepest (L1L2)\")\n",
    "stochBest = plt.plot(Cs, results[1][:,1], label ='Stochastic (L2)')\n",
    "newtonBest = plt.plot(Cs, results[2][:,0], label='Newton\\'s (L1)')\n",
    "plt.legend()\n",
    "plt.title(\"All Solvers (Best Regression)\")\n",
    "plt.xlabel(\"C-Values\")\n",
    "plt.ylabel(\"Accuracy Scores\")\n",
    "plt.ylim(0.25, 0.65)"
   ]
  },
  {
   "cell_type": "markdown",
   "id": "e43ddb88",
   "metadata": {},
   "source": [
    "From here, it's clear the Newton's Method (Hessian) with L1 regularization is the best option for my dataset"
   ]
  },
  {
   "cell_type": "code",
   "execution_count": 39,
   "id": "d4f73cc3",
   "metadata": {},
   "outputs": [
    {
     "name": "stdout",
     "output_type": "stream",
     "text": [
      "Best C-Value Tested for Newton's Method w/ L1:  1.1\n"
     ]
    }
   ],
   "source": [
    "a = results[2][:,0]\n",
    "ind = np.argpartition(a, -1)[-1:]\n",
    "#ind\n",
    "bestC = float(Cs[ind])\n",
    "print(\"Best C-Value Tested for Newton's Method w/ L1: \", bestC)"
   ]
  },
  {
   "cell_type": "markdown",
   "id": "66da9e58",
   "metadata": {},
   "source": [
    "Now, I'll run the classifier with these optimal characteristics."
   ]
  },
  {
   "cell_type": "code",
   "execution_count": 45,
   "id": "15d638cb",
   "metadata": {},
   "outputs": [
    {
     "name": "stdout",
     "output_type": "stream",
     "text": [
      "Accuracy of:  0.6366357378030529\n"
     ]
    }
   ],
   "source": [
    "np.seterr(divide = 'ignore') \n",
    "lr = CustomLogisiticRegressionWrapper(eta=0.01,iterations=5,solver='newton', cost=bestC, reg='L1')\n",
    "lr.fit(X_train,y_train)\n",
    "\n",
    "yhat = lr.predict(X_test)\n",
    "print('Accuracy of: ',accuracy_score(y_test,yhat))"
   ]
  },
  {
   "cell_type": "markdown",
   "id": "daae5d4e",
   "metadata": {},
   "source": [
    "With this in mind, let's check the classifer for data snooping."
   ]
  },
  {
   "cell_type": "code",
   "execution_count": 90,
   "id": "e991c71c",
   "metadata": {
    "scrolled": true
   },
   "outputs": [],
   "source": [
    "iters = np.arange(1,10,1)\n",
    "iters = np.concatenate((iters,np.arange(10, 100, 5)))\n",
    "iters = np.concatenate((iters,np.arange(100, 301, 20)))\n",
    "# iters contain 1,2,...,10, and 10,15,20,...,50\n",
    "trainScores = []\n",
    "testScores = []\n",
    "for i in iters:\n",
    "    lrIter = CustomLogisiticRegressionWrapper(eta=0.01,iterations=i,solver='newton', cost=bestC, reg='L1')\n",
    "    lrIter.fit(X_train,y_train)\n",
    "    trainHat = lrIter.predict(X_train)\n",
    "    trainScores.append(accuracy_score(y_train,trainHat))\n",
    "    testHat = lrIter.predict(X_test)\n",
    "    testScores.append(accuracy_score(y_test,testHat))\n"
   ]
  },
  {
   "cell_type": "code",
   "execution_count": 111,
   "id": "18cae3f1",
   "metadata": {},
   "outputs": [
    {
     "data": {
      "text/plain": [
       "array([  1,   2,   3,   4,   5,   6,   7,   8,   9,  10,  15,  20,  25,\n",
       "        30,  35,  40,  45,  50,  55,  60,  65,  70,  75,  80,  85,  90,\n",
       "        95, 100, 120, 140, 160, 180, 200, 220, 240, 260, 280, 300])"
      ]
     },
     "execution_count": 111,
     "metadata": {},
     "output_type": "execute_result"
    },
    {
     "data": {
      "image/png": "[encoded data removed]",
      "text/plain": [
       "<Figure size 1440x360 with 3 Axes>"
      ]
     },
     "metadata": {
      "needs_background": "light"
     },
     "output_type": "display_data"
    }
   ],
   "source": [
    "trainScores = np.array(trainScores)\n",
    "testScores = np.array(testScores)\n",
    "plt.figure(figsize=(20,5))\n",
    "plt.subplot(1,3,1)\n",
    "plt.plot(iters, trainScores, label=\"Training Data\")\n",
    "plt.plot(iters, testScores, label =\"Testing Data\")\n",
    "plt.xlabel(\"# of Iterations\")\n",
    "plt.ylabel(\"Accuracy Scores\")\n",
    "plt.title(\"Regression Accuracy (Iterations 0 - 300)\")\n",
    "plt.legend()\n",
    "plt.subplot(1,3,2)\n",
    "plt.xlim(0,100)\n",
    "plt.plot(iters[:28], trainScores[:28], label=\"Training Data\")\n",
    "plt.plot(iters[:28], testScores[:28], label =\"Testing Data\")\n",
    "plt.xlabel(\"# of Iterations\")\n",
    "plt.ylabel(\"Accuracy Scores\")\n",
    "plt.title(\"Regression Accuracy (Iterations 0 - 100)\")\n",
    "plt.subplot(1,3,3)\n",
    "# plt.xlim(0,100)\n",
    "plt.plot(iters[:28], trainScores[:28] - testScores[:28])\n",
    "plt.xlabel(\"# of Iterations\")\n",
    "plt.ylabel(\"Accuracy Difference (Train - Test)\")\n",
    "plt.title(\"Difference in Accuracy: Training - Test (Iterations 0 - 300)\")\n",
    "# plt.semilogy()\n",
    "iters"
   ]
  },
  {
   "cell_type": "markdown",
   "id": "75d9e3f9",
   "metadata": {},
   "source": [
    "The left plot was supposed to demonstrate whether or not there was data snooping. I was going to check if the accuracy diverged after a certain number of iterations, and, if it did, I would say there was data snooping, and if it didn't diverge, I'd say it didn't. However, cards on the table, I don't really know what to say about the left graph. I'm not sure why accuracy decreases across the board after about 100 iterations. If I had to guess, it might be some math error in the Hessian Regression class, or maybe not. I didn't see any warnings, but that doesn't entirely rule it out. Assuming that the >100 iteration data is erroneous, as I do in the righthand graphs, it's clear that the accuracy gap is increasing with the number of iterations. However, the accuracy of the training prediction is not increasing at the expense of the testing prediction, which is to say that, generally, the testing and training accuracies are both improving with increasing iterations. Based on that, I don't think there's any data snooping present."
   ]
  },
  {
   "cell_type": "markdown",
   "id": "49cd7569",
   "metadata": {},
   "source": [
    "### Comparing my optimal Newton-L1 Classifer scikit-learn)"
   ]
  },
  {
   "cell_type": "code",
   "execution_count": 130,
   "id": "272c2976",
   "metadata": {
    "scrolled": false
   },
   "outputs": [],
   "source": [
    "from sklearn.linear_model import LogisticRegression as SKLogisticRegression\n",
    "from time import perf_counter\n",
    "\n",
    "# Since scikit with default settings uses max_iter=300, I think it's only fair that my regression method\n",
    "# uses its best value under 300, which is calculated here.\n",
    "ind2 = int(np.argpartition(testScores, -1)[-1:])\n",
    "bestIter = iters[ind2]\n",
    "lrMine = CustomLogisiticRegressionWrapper(eta=0.01,iterations=bestIter,solver='newton', cost=bestC, reg='L1')\n",
    "lrSk = SKLogisticRegression(max_iter=300) # all params default, save max_iter\n",
    "lrSk.fit(X_train, y_train)\n",
    "\n",
    "mineAvg = []\n",
    "skAvg = []\n",
    "for i in range(100):\n",
    "    #Mine\n",
    "    startMine = perf_counter()\n",
    "    lrMine.fit(X_train, y_train)\n",
    "    endMine = perf_counter()\n",
    "    mineAvg.append(endMine - startMine)\n",
    "    #SciKit\n",
    "    startSk = perf_counter()\n",
    "    lrSk.fit(X_train, y_train)\n",
    "    endSk = perf_counter()\n",
    "    skAvg.append(endSk - startSk)"
   ]
  },
  {
   "cell_type": "code",
   "execution_count": 157,
   "id": "417857b0",
   "metadata": {
    "scrolled": false
   },
   "outputs": [
    {
     "name": "stdout",
     "output_type": "stream",
     "text": [
      "My accuracy:  0.6291866028708134\n",
      "scikit-learn's accuracy:  0.6196172248803827\n"
     ]
    },
    {
     "data": {
      "image/png": "[encoded data removed]",
      "text/plain": [
       "<Figure size 1080x360 with 3 Axes>"
      ]
     },
     "metadata": {
      "needs_background": "light"
     },
     "output_type": "display_data"
    }
   ],
   "source": [
    "# The variable names mineAvg and skAvg are total misnomers, but the block of code above took a long\n",
    "# time to run and I don't want to rerun it just to change the variable names\n",
    "mineAvg = np.array(mineAvg)\n",
    "skAvg = np.array(skAvg)\n",
    "bothData = np.dstack((mineAvg,skAvg))\n",
    "bothData = np.squeeze(bothData)\n",
    "labels = ['Mine','scikit-learn']\n",
    "bothData.shape\n",
    "plt.figure(figsize=(15,5))\n",
    "plt.subplot(1,3,1)\n",
    "plt.boxplot(bothData, labels=labels)\n",
    "plt.ylabel(\"Time (seconds)\")\n",
    "plt.subplot(1,3,2)\n",
    "plt.boxplot(mineAvg, labels=['Mine'])\n",
    "plt.ylabel(\"Time (seconds)\")\n",
    "plt.subplot(1,3,3)\n",
    "plt.boxplot(skAvg, labels=['scikit-learn'])\n",
    "plt.ylabel(\"Time (seconds)\")\n",
    "#plt.boxplot(skAvg)\n",
    "\n",
    "#And also, the accuracy\n",
    "mineHat = lrMine.predict(X_test)\n",
    "print(\"My accuracy: \", accuracy_score(y_test,mineHat))\n",
    "skHat = lrSk.predict(X_test)\n",
    "print(\"scikit-learn's accuracy: \", accuracy_score(y_test,skHat))"
   ]
  },
  {
   "cell_type": "markdown",
   "id": "dcc1d3a8",
   "metadata": {
    "scrolled": false
   },
   "source": [
    "Based on the boxplots above, it's immediately obvious that SKLogisticRegression is leagues faster than my regression, and more consistent to boot. That said, my regression did produce a 1% more accurate model. However, I would be reluctant to claim that my model is unilaterally more accurate that scikit-learn's. After tweaking with the settings, scikit-learn might yield better results, but, in comparison to the SKLogisticRegression in it's default state, mine is more accurate."
   ]
  },
  {
   "cell_type": "markdown",
   "id": "f4aa14ff",
   "metadata": {},
   "source": [
    "## Deployment"
   ]
  },
  {
   "cell_type": "markdown",
   "id": "aa6fe872",
   "metadata": {},
   "source": [
    "I'd recommend using my regression in a deployed model, by virtue of its superior accuracy score. While modeling speed is important on the developer's end, once the model is already created and deployed, accuracy is far more important. That said, my recommendation is contingent on two assumptions: first, that my model is not only more accurate for my dataset, but other datasets as well, even those of wildly differing size, and second, that the SKLogisiticRegression cannot be tweaked to yield superior accuracy. Both of these are hefty assumptions, and I'm skeptical that they're true, the later assumption especially. That all said, so far as it pertains to my particular business case, I wouldn't recommend deploying either, as 63% accuracy is not good enough to satisfy it."
   ]
  },
  {
   "cell_type": "markdown",
   "id": "3f30ea8d",
   "metadata": {},
   "source": [
    "## Exceptional Work"
   ]
  },
  {
   "cell_type": "code",
   "execution_count": null,
   "id": "1cbeb4eb",
   "metadata": {},
   "outputs": [],
   "source": []
  }
 ],
 "metadata": {
  "kernelspec": {
   "display_name": "Python 3 (ipykernel)",
   "language": "python",
   "name": "python3"
  },
  "language_info": {
   "codemirror_mode": {
    "name": "ipython",
    "version": 3
   },
   "file_extension": ".py",
   "mimetype": "text/x-python",
   "name": "python",
   "nbconvert_exporter": "python",
   "pygments_lexer": "ipython3",
   "version": "3.7.11"
  }
 },
 "nbformat": 4,
 "nbformat_minor": 5
}
